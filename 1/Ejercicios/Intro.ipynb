{
 "cells": [
  {
   "cell_type": "markdown",
   "metadata": {
    "slideshow": {
     "slide_type": "slide"
    }
   },
   "source": [
    "<h1 style=\"color:rgb(60, 150, 113)\"><font size=\"22\">Basics</font></h1>\n",
    "\n",
    "# Programming languages families\n",
    "As we can not write binary, we use a different __Language__ and translator to the machine language.\n",
    "\n",
    "Programming languages are basically divided as:\n",
    "\n",
    "* __Compiled__\n",
    "* __Interpreted__\n",
    "\n",
    "and both are quite different from each other!"
   ]
  },
  {
   "cell_type": "markdown",
   "metadata": {
    "slideshow": {
     "slide_type": "slide"
    }
   },
   "source": [
    "Generally compiled languages are way more difficult to write than interpreted languages.\n",
    "\n",
    "That is because the computer must translate the codes into binary operations so that they can be performed.\n",
    "\n",
    "But sometimes worth the effort!."
   ]
  },
  {
   "cell_type": "markdown",
   "metadata": {
    "slideshow": {
     "slide_type": "slide"
    }
   },
   "source": [
    "<h2>Example</h2>\n",
    "<div style=\"width:80%;\"> \n",
    "    <div style=\"float:left;\">\n",
    "    <h2>C++</h2>\n",
    "    <p><code>#include&#60;iostream&#62;\n",
    "int main(void)\n",
    "{\n",
    "    std::cout&#60;&#60;\"Hello World\"&#60;&#60;std::endl;\n",
    "    return 0;\n",
    "}</code>\n",
    "        </p>\n",
    "    </div> \n",
    "    <div style=\"float:right;\">\n",
    "    <h2>python</h2>\n",
    "    <p><code>print(\"Hello world\")</code>\n",
    "      </p>\n",
    "    </div> \n",
    "</div> "
   ]
  },
  {
   "cell_type": "markdown",
   "metadata": {
    "slideshow": {
     "slide_type": "slide"
    }
   },
   "source": [
    "There are two different strategies to perform this translation\n",
    "\n",
    "* Translate the complete file (code).\n",
    "* Translate the code line by line.\n",
    "\n",
    "This task can make the difference between the compiled and interpreted languages."
   ]
  },
  {
   "cell_type": "markdown",
   "metadata": {
    "slideshow": {
     "slide_type": "slide"
    }
   },
   "source": [
    "# Python as an interpreter\n",
    "``Python`` can be used as an interpreter, in the sense that makes a translation line by line of our code, so we can run one instruction at at a time just as we can do with ``shell``, to do so open python\n",
    "\n",
    "> <span style=\"color:red\">Note</span>: We are going to use python3 instead of just python Today, the latest version of python is Python 3.7.2, so we are not going to use python (which means Python 2.7).\n",
    "\n",
    "\n",
    "The main reason to do so, is because Python 2.7.8 was released on July 1, 2014. Is too old!!, meanwhile Release Python 3.7.2 was released on December 24, 2018."
   ]
  },
  {
   "cell_type": "markdown",
   "metadata": {
    "slideshow": {
     "slide_type": "slide"
    }
   },
   "source": [
    "# Operators\n",
    "There are two different classes of operators on any programming languages,\n",
    "\n",
    "* Arithmetic\n",
    "* Comparison\n",
    "* Logical\n",
    "What do you think they are?"
   ]
  },
  {
   "cell_type": "markdown",
   "metadata": {
    "slideshow": {
     "slide_type": "slide"
    }
   },
   "source": [
    "# Variables\n",
    "In order to understand how operators work, we have to get deeper into what a variable mean.\n",
    "In python we can define a value to a variable by just write"
   ]
  },
  {
   "cell_type": "code",
   "execution_count": 1,
   "metadata": {
    "ExecuteTime": {
     "end_time": "2019-08-06T04:53:57.023169Z",
     "start_time": "2019-08-06T04:53:57.016924Z"
    },
    "slideshow": {
     "slide_type": "fragment"
    }
   },
   "outputs": [
    {
     "name": "stdout",
     "output_type": "stream",
     "text": [
      "2\n"
     ]
    }
   ],
   "source": [
    "a=2\n",
    "print(a)"
   ]
  },
  {
   "cell_type": "markdown",
   "metadata": {
    "slideshow": {
     "slide_type": "slide"
    }
   },
   "source": [
    "The value 2 is saved in ``a``.\n",
    "\n",
    "``a`` has a specific physical place on the memory of the computer, so that every time we type a the computer goes to that particular place and reads the value."
   ]
  },
  {
   "cell_type": "markdown",
   "metadata": {
    "slideshow": {
     "slide_type": "slide"
    }
   },
   "source": [
    "As the computer doesn't understand the number 2 unless it is binary, there is a huge difference if we use"
   ]
  },
  {
   "cell_type": "code",
   "execution_count": 2,
   "metadata": {
    "ExecuteTime": {
     "end_time": "2019-08-06T04:53:57.157464Z",
     "start_time": "2019-08-06T04:53:57.132879Z"
    },
    "slideshow": {
     "slide_type": "fragment"
    }
   },
   "outputs": [],
   "source": [
    "a=2"
   ]
  },
  {
   "cell_type": "code",
   "execution_count": 3,
   "metadata": {
    "ExecuteTime": {
     "end_time": "2019-08-06T04:53:57.268981Z",
     "start_time": "2019-08-06T04:53:57.160453Z"
    },
    "slideshow": {
     "slide_type": "fragment"
    }
   },
   "outputs": [],
   "source": [
    "b=2.0"
   ]
  },
  {
   "cell_type": "markdown",
   "metadata": {
    "slideshow": {
     "slide_type": "fragment"
    }
   },
   "source": [
    "What do you think that makes the difference?"
   ]
  },
  {
   "cell_type": "markdown",
   "metadata": {
    "slideshow": {
     "slide_type": "slide"
    }
   },
   "source": [
    "# Arithmetic Operators\n",
    "To test them, let us explore some operators such as +, -,\\*, /,\\**"
   ]
  },
  {
   "cell_type": "code",
   "execution_count": 4,
   "metadata": {
    "ExecuteTime": {
     "end_time": "2019-08-06T04:53:57.449653Z",
     "start_time": "2019-08-06T04:53:57.272719Z"
    },
    "slideshow": {
     "slide_type": "fragment"
    }
   },
   "outputs": [
    {
     "data": {
      "text/plain": [
       "4.0"
      ]
     },
     "execution_count": 4,
     "metadata": {},
     "output_type": "execute_result"
    }
   ],
   "source": [
    "a+b"
   ]
  },
  {
   "cell_type": "code",
   "execution_count": 5,
   "metadata": {
    "ExecuteTime": {
     "end_time": "2019-08-06T04:53:57.531002Z",
     "start_time": "2019-08-06T04:53:57.453609Z"
    },
    "slideshow": {
     "slide_type": "fragment"
    }
   },
   "outputs": [
    {
     "data": {
      "text/plain": [
       "4"
      ]
     },
     "execution_count": 5,
     "metadata": {},
     "output_type": "execute_result"
    }
   ],
   "source": [
    "a+a"
   ]
  },
  {
   "cell_type": "markdown",
   "metadata": {
    "slideshow": {
     "slide_type": "slide"
    }
   },
   "source": [
    "In python there's a method to ask what a variable is. From time to time we would like to ask what was saved into a variable and to do so we use ``type``"
   ]
  },
  {
   "cell_type": "code",
   "execution_count": 6,
   "metadata": {
    "ExecuteTime": {
     "end_time": "2019-08-06T04:53:57.667848Z",
     "start_time": "2019-08-06T04:53:57.535893Z"
    },
    "slideshow": {
     "slide_type": "fragment"
    }
   },
   "outputs": [
    {
     "name": "stdout",
     "output_type": "stream",
     "text": [
      "<class 'int'> <class 'float'>\n"
     ]
    }
   ],
   "source": [
    "print(type(a),type(b))"
   ]
  },
  {
   "cell_type": "markdown",
   "metadata": {
    "slideshow": {
     "slide_type": "fragment"
    }
   },
   "source": [
    "which means that, ``a`` is an integer, while ``b`` can have decimals"
   ]
  },
  {
   "cell_type": "markdown",
   "metadata": {
    "slideshow": {
     "slide_type": "slide"
    }
   },
   "source": [
    "This have a huge impact but depends on the python version we are using, on different languages such as ``C++``, you have to say which kind of variable you want, for instance\n",
    "```c++\n",
    "int a=2;\n",
    "float a=2.0;\n",
    "double a=2.0;\n",
    "```\n",
    "where ``float`` and ``double`` are types that allow to save numbers with decimals."
   ]
  },
  {
   "cell_type": "markdown",
   "metadata": {
    "slideshow": {
     "slide_type": "slide"
    }
   },
   "source": [
    "But, there are some other data types, one of great interest, they are called boolean.\n",
    "\n",
    "``boolean`` variables only have two different possible values True or False.\n",
    "\n",
    "Depending on the language, they can be written differently, for example, in languages such as ``c++`` and ``julia``, the possible values are written in lower case.\n",
    "\n",
    "``C++``\n",
    "```c++\n",
    "bool test=true;\n",
    "```\n",
    "\n",
    "``julia``\n",
    "```julia\n",
    "test=true\n",
    "```\n",
    "\n",
    "``R``\n",
    "```R\n",
    "test<-TRUE\n",
    "```"
   ]
  },
  {
   "cell_type": "markdown",
   "metadata": {
    "slideshow": {
     "slide_type": "slide"
    }
   },
   "source": [
    "In Python just the first letter is upper case\n",
    "\n",
    "``python``\n",
    "```python\n",
    "test=True\n",
    "```"
   ]
  },
  {
   "cell_type": "markdown",
   "metadata": {
    "slideshow": {
     "slide_type": "slide"
    }
   },
   "source": [
    "# Comparison Operators\n",
    "These are operators that returns a ``bool`` as a result"
   ]
  },
  {
   "cell_type": "code",
   "execution_count": 7,
   "metadata": {
    "ExecuteTime": {
     "end_time": "2019-08-06T04:53:57.770519Z",
     "start_time": "2019-08-06T04:53:57.670727Z"
    },
    "slideshow": {
     "slide_type": "fragment"
    }
   },
   "outputs": [
    {
     "data": {
      "text/plain": [
       "False"
      ]
     },
     "execution_count": 7,
     "metadata": {},
     "output_type": "execute_result"
    }
   ],
   "source": [
    "a<b"
   ]
  },
  {
   "cell_type": "code",
   "execution_count": 8,
   "metadata": {
    "ExecuteTime": {
     "end_time": "2019-08-06T04:53:57.860047Z",
     "start_time": "2019-08-06T04:53:57.773630Z"
    },
    "slideshow": {
     "slide_type": "fragment"
    }
   },
   "outputs": [
    {
     "data": {
      "text/plain": [
       "False"
      ]
     },
     "execution_count": 8,
     "metadata": {},
     "output_type": "execute_result"
    }
   ],
   "source": [
    "b<a"
   ]
  },
  {
   "cell_type": "markdown",
   "metadata": {
    "slideshow": {
     "slide_type": "slide"
    }
   },
   "source": [
    "Logic operators\n",
    "Sometimes we will need to have a combination of conditions to satisfy on a particular problem,\n",
    "\n",
    "For example, the set of people on our course is different if we ask for\n",
    "\n",
    "* Female and prefer dogs to cats.\n",
    "* Female or prefer dogs to cats.\n",
    "\n",
    "Think about the difference."
   ]
  },
  {
   "cell_type": "markdown",
   "metadata": {
    "slideshow": {
     "slide_type": "slide"
    }
   },
   "source": [
    "On other languages is common to use !,||,&& for negation, or and and. python is way simpler, it uses\n",
    "\n",
    "* ! for negation.\n",
    "* or for or.\n",
    "* and for and."
   ]
  },
  {
   "cell_type": "code",
   "execution_count": 9,
   "metadata": {
    "ExecuteTime": {
     "end_time": "2019-08-06T04:53:57.967071Z",
     "start_time": "2019-08-06T04:53:57.863709Z"
    },
    "slideshow": {
     "slide_type": "fragment"
    }
   },
   "outputs": [],
   "source": [
    "a=True\n",
    "b=False"
   ]
  },
  {
   "cell_type": "code",
   "execution_count": 10,
   "metadata": {
    "ExecuteTime": {
     "end_time": "2019-08-06T04:53:58.068356Z",
     "start_time": "2019-08-06T04:53:57.972095Z"
    },
    "slideshow": {
     "slide_type": "slide"
    }
   },
   "outputs": [
    {
     "data": {
      "text/plain": [
       "False"
      ]
     },
     "execution_count": 10,
     "metadata": {},
     "output_type": "execute_result"
    }
   ],
   "source": [
    "a and b"
   ]
  },
  {
   "cell_type": "code",
   "execution_count": 11,
   "metadata": {
    "ExecuteTime": {
     "end_time": "2019-08-06T04:53:58.168295Z",
     "start_time": "2019-08-06T04:53:58.072801Z"
    },
    "slideshow": {
     "slide_type": "fragment"
    }
   },
   "outputs": [
    {
     "data": {
      "text/plain": [
       "True"
      ]
     },
     "execution_count": 11,
     "metadata": {},
     "output_type": "execute_result"
    }
   ],
   "source": [
    "a or b"
   ]
  },
  {
   "cell_type": "code",
   "execution_count": 12,
   "metadata": {
    "ExecuteTime": {
     "end_time": "2019-08-06T04:53:58.267151Z",
     "start_time": "2019-08-06T04:53:58.172562Z"
    },
    "slideshow": {
     "slide_type": "fragment"
    }
   },
   "outputs": [],
   "source": [
    "a=2\n",
    "b=3"
   ]
  },
  {
   "cell_type": "markdown",
   "metadata": {
    "slideshow": {
     "slide_type": "slide"
    }
   },
   "source": [
    "How can i ask if ``a`` and ``b`` are the same? "
   ]
  },
  {
   "cell_type": "markdown",
   "metadata": {
    "slideshow": {
     "slide_type": "slide"
    }
   },
   "source": [
    "# Comparison equality"
   ]
  },
  {
   "cell_type": "code",
   "execution_count": 13,
   "metadata": {
    "ExecuteTime": {
     "end_time": "2019-08-06T04:53:58.368294Z",
     "start_time": "2019-08-06T04:53:58.269485Z"
    },
    "slideshow": {
     "slide_type": "fragment"
    }
   },
   "outputs": [
    {
     "data": {
      "text/plain": [
       "False"
      ]
     },
     "execution_count": 13,
     "metadata": {},
     "output_type": "execute_result"
    }
   ],
   "source": [
    "a==b"
   ]
  },
  {
   "cell_type": "code",
   "execution_count": 14,
   "metadata": {
    "ExecuteTime": {
     "end_time": "2019-08-06T04:53:58.467982Z",
     "start_time": "2019-08-06T04:53:58.372395Z"
    },
    "slideshow": {
     "slide_type": "fragment"
    }
   },
   "outputs": [
    {
     "data": {
      "text/plain": [
       "True"
      ]
     },
     "execution_count": 14,
     "metadata": {},
     "output_type": "execute_result"
    }
   ],
   "source": [
    "a==2.0"
   ]
  },
  {
   "cell_type": "markdown",
   "metadata": {
    "slideshow": {
     "slide_type": "slide"
    }
   },
   "source": [
    "# Composed operators"
   ]
  },
  {
   "cell_type": "code",
   "execution_count": 15,
   "metadata": {
    "ExecuteTime": {
     "end_time": "2019-08-06T04:53:58.578810Z",
     "start_time": "2019-08-06T04:53:58.471706Z"
    },
    "slideshow": {
     "slide_type": "fragment"
    }
   },
   "outputs": [
    {
     "data": {
      "text/plain": [
       "False"
      ]
     },
     "execution_count": 15,
     "metadata": {},
     "output_type": "execute_result"
    }
   ],
   "source": [
    "a>=b"
   ]
  },
  {
   "cell_type": "markdown",
   "metadata": {
    "slideshow": {
     "slide_type": "fragment"
    }
   },
   "source": [
    "Take a look to the Truth tables to refresh how you can use these operators."
   ]
  },
  {
   "cell_type": "markdown",
   "metadata": {
    "slideshow": {
     "slide_type": "slide"
    }
   },
   "source": [
    "Now, we are ready to start working on a little bit more complex structures, such as __control statements__"
   ]
  },
  {
   "cell_type": "markdown",
   "metadata": {
    "slideshow": {
     "slide_type": "slide"
    }
   },
   "source": [
    "# if statement\n",
    "This is used for running some part of the code, only if a condition is satisfied.\n",
    "\n",
    "``python`` is based on indentation rather than characters to the control statements such as other languages can.\n",
    "\n",
    "\n",
    "A python structure of an ``if`` structure goes as\n",
    "```python\n",
    "if condition:\n",
    "    inside \n",
    "outside\n",
    "```\n",
    "\n",
    "if the condition results to be ``True`` the inside part is executed, let see some examples."
   ]
  },
  {
   "cell_type": "code",
   "execution_count": 16,
   "metadata": {
    "ExecuteTime": {
     "end_time": "2019-08-06T04:53:58.678153Z",
     "start_time": "2019-08-06T04:53:58.581141Z"
    },
    "slideshow": {
     "slide_type": "slide"
    }
   },
   "outputs": [
    {
     "name": "stdout",
     "output_type": "stream",
     "text": [
      "Inside of If\n",
      "Outside of If\n"
     ]
    }
   ],
   "source": [
    "if True:\n",
    "    print('Inside of If')\n",
    "print('Outside of If')"
   ]
  },
  {
   "cell_type": "code",
   "execution_count": 17,
   "metadata": {
    "ExecuteTime": {
     "end_time": "2019-08-06T04:53:58.777374Z",
     "start_time": "2019-08-06T04:53:58.680435Z"
    },
    "slideshow": {
     "slide_type": "fragment"
    }
   },
   "outputs": [
    {
     "name": "stdout",
     "output_type": "stream",
     "text": [
      "Outside of If\n"
     ]
    }
   ],
   "source": [
    "if False:\n",
    "    print('Inside of If')\n",
    "print('Outside of If')"
   ]
  },
  {
   "cell_type": "code",
   "execution_count": 18,
   "metadata": {
    "ExecuteTime": {
     "end_time": "2019-08-06T04:53:58.877471Z",
     "start_time": "2019-08-06T04:53:58.780394Z"
    },
    "slideshow": {
     "slide_type": "slide"
    }
   },
   "outputs": [
    {
     "name": "stdout",
     "output_type": "stream",
     "text": [
      "b is greater that a\n"
     ]
    }
   ],
   "source": [
    "a=1\n",
    "b=2\n",
    "if a>b:\n",
    "    print('a is greater than b')\n",
    "else:\n",
    "    print('b is greater that a')"
   ]
  },
  {
   "cell_type": "markdown",
   "metadata": {
    "slideshow": {
     "slide_type": "fragment"
    }
   },
   "source": [
    "but, what if a=b?"
   ]
  },
  {
   "cell_type": "code",
   "execution_count": 19,
   "metadata": {
    "ExecuteTime": {
     "end_time": "2019-08-06T04:53:58.988814Z",
     "start_time": "2019-08-06T04:53:58.880960Z"
    },
    "slideshow": {
     "slide_type": "slide"
    }
   },
   "outputs": [
    {
     "name": "stdout",
     "output_type": "stream",
     "text": [
      "b is equal to a\n"
     ]
    }
   ],
   "source": [
    "a=1\n",
    "b=1\n",
    "if a>b:\n",
    "    print('a is greater than b')\n",
    "elif a<b:\n",
    "    print('b is greater that a')\n",
    "else:\n",
    "    print('b is equal to a')"
   ]
  },
  {
   "cell_type": "markdown",
   "metadata": {
    "slideshow": {
     "slide_type": "fragment"
    }
   },
   "source": [
    "``elif`` holds for else if"
   ]
  },
  {
   "cell_type": "markdown",
   "metadata": {
    "slideshow": {
     "slide_type": "slide"
    }
   },
   "source": [
    "# for statement\n",
    "The for is one of the loop structures that can be used on python, when a procedure must be repeated a certain known of times.\n",
    "\n",
    "Again, we have to be careful with the indentation, so that"
   ]
  },
  {
   "cell_type": "code",
   "execution_count": 20,
   "metadata": {
    "ExecuteTime": {
     "end_time": "2019-08-06T04:53:59.072446Z",
     "start_time": "2019-08-06T04:53:58.992024Z"
    },
    "slideshow": {
     "slide_type": "fragment"
    }
   },
   "outputs": [
    {
     "name": "stdout",
     "output_type": "stream",
     "text": [
      "5050\n"
     ]
    }
   ],
   "source": [
    "summing=0\n",
    "for i in range(101):\n",
    "    summing=summing+i\n",
    "print(summing)"
   ]
  },
  {
   "cell_type": "markdown",
   "metadata": {
    "slideshow": {
     "slide_type": "slide"
    }
   },
   "source": [
    "# lists\n",
    "The for structure, have the huge advantage compared with languages such as C++ and fortran, because of it allows to iterate on the compounds of a data type called lists.\n",
    "\n",
    "A list is a set of things on python, the most important thing here is that one can use any kind of thing inside a list, such that\n",
    "\n",
    "* lists\n",
    "* strings\n",
    "* Numbers: int or float\n",
    "* objects\n",
    "* pointers\n",
    "* ..."
   ]
  },
  {
   "cell_type": "markdown",
   "metadata": {
    "slideshow": {
     "slide_type": "slide"
    }
   },
   "source": [
    "The only thing we have to consider is to make it inside of [], let see some examples"
   ]
  },
  {
   "cell_type": "code",
   "execution_count": 21,
   "metadata": {
    "ExecuteTime": {
     "end_time": "2019-08-06T04:53:59.167586Z",
     "start_time": "2019-08-06T04:53:59.076395Z"
    },
    "slideshow": {
     "slide_type": "fragment"
    }
   },
   "outputs": [
    {
     "name": "stdout",
     "output_type": "stream",
     "text": [
      "[]\n"
     ]
    },
    {
     "data": {
      "text/plain": [
       "list"
      ]
     },
     "execution_count": 21,
     "metadata": {},
     "output_type": "execute_result"
    }
   ],
   "source": [
    "list1=[]\n",
    "print(list1)\n",
    "type(list1)"
   ]
  },
  {
   "cell_type": "code",
   "execution_count": 22,
   "metadata": {
    "ExecuteTime": {
     "end_time": "2019-08-06T04:53:59.243524Z",
     "start_time": "2019-08-06T04:53:59.171008Z"
    },
    "slideshow": {
     "slide_type": "slide"
    }
   },
   "outputs": [
    {
     "name": "stdout",
     "output_type": "stream",
     "text": [
      "[10] <class 'list'> <class 'int'>\n"
     ]
    }
   ],
   "source": [
    "list2=[10]\n",
    "print(list2,type(list2),type(list2[0]))"
   ]
  },
  {
   "cell_type": "code",
   "execution_count": 23,
   "metadata": {
    "ExecuteTime": {
     "end_time": "2019-08-06T04:53:59.343488Z",
     "start_time": "2019-08-06T04:53:59.246538Z"
    },
    "slideshow": {
     "slide_type": "fragment"
    }
   },
   "outputs": [
    {
     "name": "stdout",
     "output_type": "stream",
     "text": [
      "[1, 2, 3, 4, 5, 1, 2, 3, 4, 5]\n"
     ]
    }
   ],
   "source": [
    "list2=[1,2,3,4,5]\n",
    "print(list2*2)"
   ]
  },
  {
   "cell_type": "markdown",
   "metadata": {
    "slideshow": {
     "slide_type": "slide"
    }
   },
   "source": [
    "# List on a for"
   ]
  },
  {
   "cell_type": "code",
   "execution_count": 24,
   "metadata": {
    "ExecuteTime": {
     "end_time": "2019-08-06T04:53:59.432338Z",
     "start_time": "2019-08-06T04:53:59.346449Z"
    },
    "slideshow": {
     "slide_type": "fragment"
    }
   },
   "outputs": [
    {
     "name": "stdout",
     "output_type": "stream",
     "text": [
      "value1\n",
      "value2\n"
     ]
    }
   ],
   "source": [
    "for i in ['value1', 'value2']:\n",
    "    print(i)"
   ]
  },
  {
   "cell_type": "code",
   "execution_count": 25,
   "metadata": {
    "ExecuteTime": {
     "end_time": "2019-08-06T04:53:59.545355Z",
     "start_time": "2019-08-06T04:53:59.434551Z"
    },
    "slideshow": {
     "slide_type": "slide"
    }
   },
   "outputs": [
    {
     "name": "stdout",
     "output_type": "stream",
     "text": [
      "1\n",
      "2\n",
      "3\n",
      "4\n",
      "5\n",
      "6\n",
      "7\n",
      "8\n",
      "9\n",
      "10\n"
     ]
    }
   ],
   "source": [
    "list3=[1,2,3,4,5,6,7,8,9,10]\n",
    "for i in list3:\n",
    "    print(i)"
   ]
  },
  {
   "cell_type": "markdown",
   "metadata": {
    "slideshow": {
     "slide_type": "fragment"
    }
   },
   "source": [
    "Then one can have more than one structure inside another, let see some more examples"
   ]
  },
  {
   "cell_type": "code",
   "execution_count": 26,
   "metadata": {
    "ExecuteTime": {
     "end_time": "2019-08-06T04:53:59.667160Z",
     "start_time": "2019-08-06T04:53:59.549081Z"
    },
    "slideshow": {
     "slide_type": "slide"
    }
   },
   "outputs": [
    {
     "name": "stdout",
     "output_type": "stream",
     "text": [
      "Inside for on loop:  0\n",
      "Inside for on loop:  1\n",
      "Inside first if\n",
      "Inside for on loop:  2\n",
      "Inside elif\n",
      "Inside for on loop:  3\n",
      "Inside for on loop:  4\n"
     ]
    }
   ],
   "source": [
    "for i in range(5):\n",
    "    if i == 2:\n",
    "        print('Inside first if')\n",
    "    elif i ==3:\n",
    "        print('Inside elif')\n",
    "    print('Inside for on loop: ',i)"
   ]
  },
  {
   "cell_type": "code",
   "execution_count": 27,
   "metadata": {
    "ExecuteTime": {
     "end_time": "2019-08-06T04:53:59.812919Z",
     "start_time": "2019-08-06T04:53:59.670267Z"
    },
    "slideshow": {
     "slide_type": "slide"
    }
   },
   "outputs": [
    {
     "name": "stdout",
     "output_type": "stream",
     "text": [
      "0\n",
      "2\n",
      "4\n",
      "6\n",
      "8\n"
     ]
    }
   ],
   "source": [
    "for i in range(10):\n",
    "    if i%2==0:\n",
    "        print(i)"
   ]
  },
  {
   "cell_type": "markdown",
   "metadata": {
    "slideshow": {
     "slide_type": "slide"
    }
   },
   "source": [
    "# Homework\n",
    "Look for some methods to delete elements in a list"
   ]
  }
 ],
 "metadata": {
  "celltoolbar": "Slideshow",
  "kernelspec": {
   "display_name": "Python 3",
   "language": "python",
   "name": "python3"
  },
  "language_info": {
   "codemirror_mode": {
    "name": "ipython",
    "version": 3
   },
   "file_extension": ".py",
   "mimetype": "text/x-python",
   "name": "python",
   "nbconvert_exporter": "python",
   "pygments_lexer": "ipython3",
   "version": "3.7.3"
  },
  "varInspector": {
   "cols": {
    "lenName": 16,
    "lenType": 16,
    "lenVar": 40
   },
   "kernels_config": {
    "python": {
     "delete_cmd_postfix": "",
     "delete_cmd_prefix": "del ",
     "library": "var_list.py",
     "varRefreshCmd": "print(var_dic_list())"
    },
    "r": {
     "delete_cmd_postfix": ") ",
     "delete_cmd_prefix": "rm(",
     "library": "var_list.r",
     "varRefreshCmd": "cat(var_dic_list()) "
    }
   },
   "types_to_exclude": [
    "module",
    "function",
    "builtin_function_or_method",
    "instance",
    "_Feature"
   ],
   "window_display": false
  }
 },
 "nbformat": 4,
 "nbformat_minor": 4
}
