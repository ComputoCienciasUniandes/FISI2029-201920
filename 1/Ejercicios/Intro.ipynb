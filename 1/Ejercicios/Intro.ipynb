{
 "cells": [
  {
   "cell_type": "markdown",
   "metadata": {},
   "source": [
    "<h1 style=\"color:rgb(60, 150, 113)\"><font size=\"22\">Basics</font></h1>\n",
    "\n",
    "# Programming languages families\n",
    "As we can not write binary, we use a different __Language__ and translator to the machine language.\n",
    "\n",
    "Programming languages are basically divided as:\n",
    "\n",
    "* __Compiled__\n",
    "* __Interpreted__\n",
    "\n",
    "and both are quite different from each other!"
   ]
  },
  {
   "cell_type": "markdown",
   "metadata": {},
   "source": [
    "Generally compiled languages are way more difficult to write than interpreted languages.\n",
    "\n",
    "That is because the computer must translate the codes into binary operations so that they can be performed.\n",
    "\n",
    "But sometimes worth the effort!."
   ]
  },
  {
   "cell_type": "markdown",
   "metadata": {},
   "source": [
    "<h2>Example</h2>\n",
    "<div style=\"width:80%;\"> \n",
    "    <div style=\"float:left;\">\n",
    "    <h2>C++</h2>\n",
    "    <p><code>#include&#60;iostream&#62;\n",
    "int main(void)\n",
    "{\n",
    "    std::cout&#60;&#60;\"Hello World\"&#60;&#60;std::endl;\n",
    "    return 0;\n",
    "}</code>\n",
    "        </p>\n",
    "    </div> \n",
    "    <div style=\"float:right;\">\n",
    "    <h2>python</h2>\n",
    "    <p><code>print(\"Hello world\")</code>\n",
    "      </p>\n",
    "    </div> \n",
    "</div> "
   ]
  },
  {
   "cell_type": "markdown",
   "metadata": {},
   "source": [
    "There are two different strategies to perform this translation\n",
    "\n",
    "* Translate the complete file (code).\n",
    "* Translate the code line by line.\n",
    "\n",
    "This task can make the difference between the compiled and interpreted languages."
   ]
  },
  {
   "cell_type": "markdown",
   "metadata": {},
   "source": [
    "# Python as an interpreter\n",
    "``Python`` can be used as an interpreter, in the sense that makes a translation line by line of our code, so we can run one instruction at at a time just as we can do with ``shell``, to do so open python\n",
    "\n",
    "> <span style=\"color:red\">Note</span>: We are going to use python3 instead of just python Today, the latest version of python is Python 3.7.2, so we are not going to use python (which means Python 2.7).\n",
    "\n",
    "\n",
    "The main reason to do so, is because Python 2.7.8 was released on July 1, 2014. Is too old!!, meanwhile Release Python 3.7.2 was released on December 24, 2018."
   ]
  },
  {
   "cell_type": "markdown",
   "metadata": {},
   "source": [
    "# Operators\n",
    "There are two different classes of operators on any programming languages,\n",
    "\n",
    "* Arithmetic\n",
    "* Comparison\n",
    "* Logical\n",
    "What do you think they are?"
   ]
  },
  {
   "cell_type": "markdown",
   "metadata": {},
   "source": [
    "# Variables\n",
    "In order to understand how operators work, we have to get deeper into what a variable mean.\n",
    "In python we can define a value to a variable by just write"
   ]
  },
  {
   "cell_type": "code",
   "execution_count": 1,
   "metadata": {
    "ExecuteTime": {
     "end_time": "2019-08-06T04:03:58.159319Z",
     "start_time": "2019-08-06T04:03:58.118699Z"
    }
   },
   "outputs": [
    {
     "name": "stdout",
     "output_type": "stream",
     "text": [
      "2\n"
     ]
    }
   ],
   "source": [
    "a=2\n",
    "print(a)"
   ]
  },
  {
   "cell_type": "markdown",
   "metadata": {},
   "source": [
    "The value 2 is saved in ``a``.\n",
    "\n",
    "``a`` has a specific physical place on the memory of the computer, so that every time we type a the computer goes to that particular place and reads the value."
   ]
  },
  {
   "cell_type": "markdown",
   "metadata": {},
   "source": [
    "As the computer doesn't understand the number 2 unless it is binary, there is a huge difference if we use"
   ]
  },
  {
   "cell_type": "code",
   "execution_count": 2,
   "metadata": {
    "ExecuteTime": {
     "end_time": "2019-08-06T04:05:55.533296Z",
     "start_time": "2019-08-06T04:05:55.524275Z"
    }
   },
   "outputs": [],
   "source": [
    "a=2"
   ]
  },
  {
   "cell_type": "code",
   "execution_count": 3,
   "metadata": {
    "ExecuteTime": {
     "end_time": "2019-08-06T04:06:00.686177Z",
     "start_time": "2019-08-06T04:06:00.680168Z"
    }
   },
   "outputs": [],
   "source": [
    "b=2.0"
   ]
  },
  {
   "cell_type": "markdown",
   "metadata": {},
   "source": [
    "What do you think that makes the difference?"
   ]
  },
  {
   "cell_type": "markdown",
   "metadata": {},
   "source": [
    "# Arithmetic Operators\n",
    "To test them, let us explore some operators such as +, -,\\*, /,\\**"
   ]
  },
  {
   "cell_type": "code",
   "execution_count": 4,
   "metadata": {
    "ExecuteTime": {
     "end_time": "2019-08-06T04:07:27.334266Z",
     "start_time": "2019-08-06T04:07:27.311831Z"
    }
   },
   "outputs": [
    {
     "data": {
      "text/plain": [
       "4.0"
      ]
     },
     "execution_count": 4,
     "metadata": {},
     "output_type": "execute_result"
    }
   ],
   "source": [
    "a+b"
   ]
  },
  {
   "cell_type": "code",
   "execution_count": 5,
   "metadata": {
    "ExecuteTime": {
     "end_time": "2019-08-06T04:07:35.119594Z",
     "start_time": "2019-08-06T04:07:35.109943Z"
    }
   },
   "outputs": [
    {
     "data": {
      "text/plain": [
       "4"
      ]
     },
     "execution_count": 5,
     "metadata": {},
     "output_type": "execute_result"
    }
   ],
   "source": [
    "a+a"
   ]
  },
  {
   "cell_type": "markdown",
   "metadata": {},
   "source": [
    "In python there's a method to ask what a variable is. From time to time we would like to ask what was saved into a variable and to do so we use ``type``"
   ]
  },
  {
   "cell_type": "code",
   "execution_count": 6,
   "metadata": {
    "ExecuteTime": {
     "end_time": "2019-08-06T04:09:42.663908Z",
     "start_time": "2019-08-06T04:09:42.656804Z"
    }
   },
   "outputs": [
    {
     "name": "stdout",
     "output_type": "stream",
     "text": [
      "<class 'int'> <class 'float'>\n"
     ]
    }
   ],
   "source": [
    "print(type(a),type(b))"
   ]
  },
  {
   "cell_type": "markdown",
   "metadata": {},
   "source": [
    "which means that, ``a`` is an integer, while ``b`` can have decimals"
   ]
  },
  {
   "cell_type": "markdown",
   "metadata": {},
   "source": [
    "This have a huge impact but depends on the python version we are using, on different languages such as ``C++``, you have to say which kind of variable you want, for instance\n",
    "```c++\n",
    "int a=2;\n",
    "float a=2.0;\n",
    "double a=2.0;\n",
    "```\n",
    "where ``float`` and ``double`` are types that allow to save numbers with decimals."
   ]
  },
  {
   "cell_type": "markdown",
   "metadata": {},
   "source": [
    "But, there are some other data types, one of great interest, they are called boolean.\n",
    "\n",
    "``boolean`` variables only have two different possible values True or False.\n",
    "\n",
    "Depending on the language, they can be written differently, for example, in languages such as ``c++`` and ``julia``, the possible values are written in lower case.\n",
    "\n",
    "``C++``\n",
    "```c++\n",
    "bool test=true;\n",
    "```\n",
    "\n",
    "``julia``\n",
    "```julia\n",
    "test=true\n",
    "```\n",
    "\n",
    "``R``\n",
    "```R\n",
    "test<-TRUE\n",
    "```"
   ]
  },
  {
   "cell_type": "markdown",
   "metadata": {},
   "source": [
    "In Python just the first letter is upper case\n",
    "\n",
    "``python``\n",
    "```python\n",
    "test=True\n",
    "```"
   ]
  },
  {
   "cell_type": "markdown",
   "metadata": {},
   "source": [
    "# Comparison Operators\n",
    "These are operators that returns a ``bool`` as a result"
   ]
  },
  {
   "cell_type": "code",
   "execution_count": 7,
   "metadata": {
    "ExecuteTime": {
     "end_time": "2019-08-06T04:18:08.812692Z",
     "start_time": "2019-08-06T04:18:08.805412Z"
    }
   },
   "outputs": [
    {
     "data": {
      "text/plain": [
       "False"
      ]
     },
     "execution_count": 7,
     "metadata": {},
     "output_type": "execute_result"
    }
   ],
   "source": [
    "a<b"
   ]
  },
  {
   "cell_type": "code",
   "execution_count": 8,
   "metadata": {
    "ExecuteTime": {
     "end_time": "2019-08-06T04:18:15.626139Z",
     "start_time": "2019-08-06T04:18:15.619231Z"
    }
   },
   "outputs": [
    {
     "data": {
      "text/plain": [
       "False"
      ]
     },
     "execution_count": 8,
     "metadata": {},
     "output_type": "execute_result"
    }
   ],
   "source": [
    "b<a"
   ]
  },
  {
   "cell_type": "markdown",
   "metadata": {},
   "source": [
    "Logic operators\n",
    "Sometimes we will need to have a combination of conditions to satisfy on a particular problem,\n",
    "\n",
    "For example, the set of people on our course is different if we ask for\n",
    "\n",
    "* Female and prefer dogs to cats.\n",
    "* Female or prefer dogs to cats.\n",
    "\n",
    "Think about the difference."
   ]
  },
  {
   "cell_type": "markdown",
   "metadata": {},
   "source": [
    "On other languages is common to use !,||,&& for negation, or and and. python is way simpler, it uses\n",
    "\n",
    "* ! for negation.\n",
    "* or for or.\n",
    "* and for and."
   ]
  },
  {
   "cell_type": "code",
   "execution_count": 9,
   "metadata": {
    "ExecuteTime": {
     "end_time": "2019-08-06T04:20:12.866187Z",
     "start_time": "2019-08-06T04:20:12.859428Z"
    }
   },
   "outputs": [],
   "source": [
    "a=True\n",
    "b=False"
   ]
  },
  {
   "cell_type": "code",
   "execution_count": 10,
   "metadata": {
    "ExecuteTime": {
     "end_time": "2019-08-06T04:20:32.834134Z",
     "start_time": "2019-08-06T04:20:32.826546Z"
    }
   },
   "outputs": [
    {
     "data": {
      "text/plain": [
       "False"
      ]
     },
     "execution_count": 10,
     "metadata": {},
     "output_type": "execute_result"
    }
   ],
   "source": [
    "a and b"
   ]
  },
  {
   "cell_type": "code",
   "execution_count": 11,
   "metadata": {
    "ExecuteTime": {
     "end_time": "2019-08-06T04:20:41.459054Z",
     "start_time": "2019-08-06T04:20:41.448555Z"
    }
   },
   "outputs": [
    {
     "data": {
      "text/plain": [
       "True"
      ]
     },
     "execution_count": 11,
     "metadata": {},
     "output_type": "execute_result"
    }
   ],
   "source": [
    "a or b"
   ]
  },
  {
   "cell_type": "code",
   "execution_count": 12,
   "metadata": {
    "ExecuteTime": {
     "end_time": "2019-08-06T04:20:51.674971Z",
     "start_time": "2019-08-06T04:20:51.671460Z"
    }
   },
   "outputs": [],
   "source": [
    "a=2\n",
    "b=3"
   ]
  },
  {
   "cell_type": "markdown",
   "metadata": {},
   "source": [
    "How can i ask if ``a`` and ``b`` are the same? "
   ]
  },
  {
   "cell_type": "markdown",
   "metadata": {},
   "source": [
    "# Comparison equality"
   ]
  },
  {
   "cell_type": "code",
   "execution_count": 13,
   "metadata": {
    "ExecuteTime": {
     "end_time": "2019-08-06T04:21:48.175902Z",
     "start_time": "2019-08-06T04:21:48.168235Z"
    }
   },
   "outputs": [
    {
     "data": {
      "text/plain": [
       "False"
      ]
     },
     "execution_count": 13,
     "metadata": {},
     "output_type": "execute_result"
    }
   ],
   "source": [
    "a==b"
   ]
  },
  {
   "cell_type": "code",
   "execution_count": 14,
   "metadata": {
    "ExecuteTime": {
     "end_time": "2019-08-06T04:21:56.406712Z",
     "start_time": "2019-08-06T04:21:56.396402Z"
    }
   },
   "outputs": [
    {
     "data": {
      "text/plain": [
       "True"
      ]
     },
     "execution_count": 14,
     "metadata": {},
     "output_type": "execute_result"
    }
   ],
   "source": [
    "a==2.0"
   ]
  },
  {
   "cell_type": "markdown",
   "metadata": {},
   "source": [
    "# Composed operators"
   ]
  },
  {
   "cell_type": "code",
   "execution_count": 15,
   "metadata": {
    "ExecuteTime": {
     "end_time": "2019-08-06T04:22:08.776565Z",
     "start_time": "2019-08-06T04:22:08.770510Z"
    }
   },
   "outputs": [
    {
     "data": {
      "text/plain": [
       "False"
      ]
     },
     "execution_count": 15,
     "metadata": {},
     "output_type": "execute_result"
    }
   ],
   "source": [
    "a>=b"
   ]
  },
  {
   "cell_type": "markdown",
   "metadata": {},
   "source": [
    "Take a look to the Truth tables to refresh how you can use these operators."
   ]
  },
  {
   "cell_type": "markdown",
   "metadata": {},
   "source": [
    "Now, we are ready to start working on a little bit more complex structures, such as control statements"
   ]
  },
  {
   "cell_type": "code",
   "execution_count": null,
   "metadata": {},
   "outputs": [],
   "source": []
  },
  {
   "cell_type": "markdown",
   "metadata": {},
   "source": [
    "# Lists and Strings\n",
    "\n"
   ]
  },
  {
   "cell_type": "markdown",
   "metadata": {},
   "source": [
    "# Homework\n",
    "Look for some methods to delete elements in a list"
   ]
  }
 ],
 "metadata": {
  "kernelspec": {
   "display_name": "Python 3",
   "language": "python",
   "name": "python3"
  },
  "language_info": {
   "codemirror_mode": {
    "name": "ipython",
    "version": 3
   },
   "file_extension": ".py",
   "mimetype": "text/x-python",
   "name": "python",
   "nbconvert_exporter": "python",
   "pygments_lexer": "ipython3",
   "version": "3.7.3"
  },
  "varInspector": {
   "cols": {
    "lenName": 16,
    "lenType": 16,
    "lenVar": 40
   },
   "kernels_config": {
    "python": {
     "delete_cmd_postfix": "",
     "delete_cmd_prefix": "del ",
     "library": "var_list.py",
     "varRefreshCmd": "print(var_dic_list())"
    },
    "r": {
     "delete_cmd_postfix": ") ",
     "delete_cmd_prefix": "rm(",
     "library": "var_list.r",
     "varRefreshCmd": "cat(var_dic_list()) "
    }
   },
   "types_to_exclude": [
    "module",
    "function",
    "builtin_function_or_method",
    "instance",
    "_Feature"
   ],
   "window_display": false
  }
 },
 "nbformat": 4,
 "nbformat_minor": 4
}
